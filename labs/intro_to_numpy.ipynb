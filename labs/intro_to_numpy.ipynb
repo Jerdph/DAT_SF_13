{
 "metadata": {
  "name": "",
  "signature": "sha256:4dfa8172e5d61400b1b1d53b7233d990f0c00a98d3e817438d002ba676fd9769"
 },
 "nbformat": 3,
 "nbformat_minor": 0,
 "worksheets": [
  {
   "cells": [
    {
     "cell_type": "heading",
     "level": 1,
     "metadata": {},
     "source": [
      "GA Lab 1: Pandas and Numpy"
     ]
    },
    {
     "cell_type": "code",
     "collapsed": false,
     "input": [
      "import numpy as np\n",
      "import pandas as pd\n",
      "import matplotlib.pyplot as plt\n",
      "\n",
      "# Limit rows displayed in notebook\n",
      "pd.set_option('display.max_rows', 10)\n",
      "pd.set_option('display.precision', 2)\n",
      "\n",
      "%matplotlib inline"
     ],
     "language": "python",
     "metadata": {},
     "outputs": []
    },
    {
     "cell_type": "markdown",
     "metadata": {},
     "source": [
      "http://www.numpy.org/"
     ]
    },
    {
     "cell_type": "heading",
     "level": 1,
     "metadata": {},
     "source": [
      "Numpy"
     ]
    },
    {
     "cell_type": "heading",
     "level": 2,
     "metadata": {},
     "source": [
      "Why numpy"
     ]
    },
    {
     "cell_type": "markdown",
     "metadata": {},
     "source": [
      "- very fast! \n",
      "- ndarray: immutable, one type, striding\n",
      "- widely used\n",
      "- input to many/most machine learning algorithms"
     ]
    },
    {
     "cell_type": "code",
     "collapsed": false,
     "input": [
      "%%timeit\n",
      "#Traditional Method\n",
      "X = range(10000000)\n",
      "Y = range(10000000)\n",
      "Z = []\n",
      "for i in range(len(X)):\n",
      "    Z.append(X[i] + Y[i])"
     ],
     "language": "python",
     "metadata": {},
     "outputs": []
    },
    {
     "cell_type": "code",
     "collapsed": false,
     "input": [
      "%%timeit\n",
      "#Numpy\n",
      "X = np.arange(10000000)\n",
      "Y = np.arange(10000000)\n",
      "Z = X + Y"
     ],
     "language": "python",
     "metadata": {},
     "outputs": []
    },
    {
     "cell_type": "heading",
     "level": 2,
     "metadata": {},
     "source": [
      "ndarray"
     ]
    },
    {
     "cell_type": "code",
     "collapsed": false,
     "input": [
      "test_array = np.array(np.arange(12))\n",
      "print \"array: {}\".format(test_array)\n",
      "print \"Type: {}\".format(type(test_array))\n",
      "print \"Array size: {}\".format(test_array.shape)\n",
      "print \"Type of object: {}\".format(test_array.dtype)\n",
      "print 'Size (elements): ', test_array.size\n",
      "print 'ndim (number of dim): ', test_array.ndim"
     ],
     "language": "python",
     "metadata": {},
     "outputs": []
    },
    {
     "cell_type": "heading",
     "level": 4,
     "metadata": {},
     "source": [
      "Basic operations"
     ]
    },
    {
     "cell_type": "code",
     "collapsed": false,
     "input": [
      "#Array slicing - same as python\n",
      "print \"First element: {}\".format(test_array[0])\n",
      "print \"Slicing array: {}\".format(test_array[1:4])"
     ],
     "language": "python",
     "metadata": {},
     "outputs": []
    },
    {
     "cell_type": "heading",
     "level": 4,
     "metadata": {},
     "source": [
      "Reshaping"
     ]
    },
    {
     "cell_type": "code",
     "collapsed": false,
     "input": [
      "print test_array.reshape(3,4)\n",
      "print \n",
      "print test_array.reshape(4,3)"
     ],
     "language": "python",
     "metadata": {},
     "outputs": []
    },
    {
     "cell_type": "heading",
     "level": 4,
     "metadata": {},
     "source": [
      "Array operations"
     ]
    },
    {
     "cell_type": "code",
     "collapsed": false,
     "input": [
      "print \"Scalar Multiplication: {}\".format(test_array * 4)\n",
      "print\n",
      "print \"Sum: {}\".format(np.sum(test_array))\n",
      "print \"Array mean: {}\".format(np.mean(test_array))"
     ],
     "language": "python",
     "metadata": {},
     "outputs": []
    },
    {
     "cell_type": "code",
     "collapsed": false,
     "input": [
      "arr1 = np.array([1, 2, 3])\n",
      "arr2 = np.array([4, 5, 6])\n",
      "\n",
      "#Addition\n",
      "print \"Addition: {}\".format(arr1 + arr2)\n",
      "#Multiplication\n",
      "print \"Multiplication: {}\".format(arr1 * arr2)"
     ],
     "language": "python",
     "metadata": {},
     "outputs": []
    },
    {
     "cell_type": "heading",
     "level": 2,
     "metadata": {},
     "source": [
      "Exercise 1: Do the same thing in python"
     ]
    },
    {
     "cell_type": "code",
     "collapsed": false,
     "input": [
      "sequence_1 = [1, 2, 3, 4, 5, 6, 7, 8]\n",
      "sequence_2 = [2, 4, 6, 8, 10, 12, 14, 16]"
     ],
     "language": "python",
     "metadata": {},
     "outputs": []
    },
    {
     "cell_type": "code",
     "collapsed": false,
     "input": [
      "#Add two python lists"
     ],
     "language": "python",
     "metadata": {},
     "outputs": []
    },
    {
     "cell_type": "code",
     "collapsed": false,
     "input": [
      "#Multiply two python lists"
     ],
     "language": "python",
     "metadata": {},
     "outputs": []
    },
    {
     "cell_type": "code",
     "collapsed": false,
     "input": [
      "#Multiply a scalar by a python list"
     ],
     "language": "python",
     "metadata": {},
     "outputs": []
    },
    {
     "cell_type": "heading",
     "level": 4,
     "metadata": {},
     "source": [
      "Filtering / Masking"
     ]
    },
    {
     "cell_type": "code",
     "collapsed": false,
     "input": [
      "print test_array > 5\n",
      "#These filters can be assigned\n",
      "elements_gt_5 = test_array > 5\n",
      "print test_array[elements_gt_5]"
     ],
     "language": "python",
     "metadata": {},
     "outputs": []
    },
    {
     "cell_type": "heading",
     "level": 2,
     "metadata": {},
     "source": [
      "Other numpy functions"
     ]
    },
    {
     "cell_type": "code",
     "collapsed": false,
     "input": [
      "#Create an array from 1-300\n",
      "three_hundred = np.arange(1,301)\n",
      "print three_hundred"
     ],
     "language": "python",
     "metadata": {},
     "outputs": []
    },
    {
     "cell_type": "heading",
     "level": 3,
     "metadata": {},
     "source": [
      "linspace"
     ]
    },
    {
     "cell_type": "code",
     "collapsed": false,
     "input": [
      "#Get 10 evenly spaced points between 1 and 1000 - inclusive\n",
      "np.linspace(1,1000,10)"
     ],
     "language": "python",
     "metadata": {},
     "outputs": []
    },
    {
     "cell_type": "code",
     "collapsed": false,
     "input": [
      "# Normal Dist\n",
      "# Mean of 1, std of 0.1, 10 elements\n",
      "np.random.normal(1, 0.1, 25)"
     ],
     "language": "python",
     "metadata": {},
     "outputs": []
    },
    {
     "cell_type": "code",
     "collapsed": false,
     "input": [
      "# Standard Normal Dist\n",
      "np.random.randn(1, 25)"
     ],
     "language": "python",
     "metadata": {},
     "outputs": []
    },
    {
     "cell_type": "heading",
     "level": 3,
     "metadata": {},
     "source": [
      "Multiple array slicing"
     ]
    },
    {
     "cell_type": "code",
     "collapsed": false,
     "input": [
      "test_array = np.arange(0,120).reshape(15,8)\n",
      "print test_array"
     ],
     "language": "python",
     "metadata": {},
     "outputs": []
    },
    {
     "cell_type": "heading",
     "level": 4,
     "metadata": {},
     "source": [
      "select an individual element"
     ]
    },
    {
     "cell_type": "code",
     "collapsed": false,
     "input": [
      "test_array[1,1]"
     ],
     "language": "python",
     "metadata": {},
     "outputs": []
    },
    {
     "cell_type": "heading",
     "level": 4,
     "metadata": {},
     "source": [
      "select a row"
     ]
    },
    {
     "cell_type": "code",
     "collapsed": false,
     "input": [
      "test_array[1]"
     ],
     "language": "python",
     "metadata": {},
     "outputs": []
    },
    {
     "cell_type": "heading",
     "level": 4,
     "metadata": {},
     "source": [
      "select a column"
     ]
    },
    {
     "cell_type": "code",
     "collapsed": false,
     "input": [
      "test_array[:,3]"
     ],
     "language": "python",
     "metadata": {},
     "outputs": []
    },
    {
     "cell_type": "heading",
     "level": 4,
     "metadata": {},
     "source": [
      "select a row and column subset"
     ]
    },
    {
     "cell_type": "code",
     "collapsed": false,
     "input": [
      "#Select the second, third and fourth column\n",
      "#then select the fourth, fifth and sixth column\n",
      "test_array[1:5,3:6]"
     ],
     "language": "python",
     "metadata": {},
     "outputs": []
    },
    {
     "cell_type": "heading",
     "level": 2,
     "metadata": {},
     "source": [
      "Exercise 2: Array practice"
     ]
    },
    {
     "cell_type": "markdown",
     "metadata": {},
     "source": [
      "- These are difficult\n",
      "- This syntax is very useful"
     ]
    },
    {
     "cell_type": "code",
     "collapsed": false,
     "input": [
      "#Create an array with dimensions 10 x 15"
     ],
     "language": "python",
     "metadata": {},
     "outputs": []
    },
    {
     "cell_type": "code",
     "collapsed": false,
     "input": [
      "#What is the sum of the second row?\n",
      "#Sum of the even rows"
     ],
     "language": "python",
     "metadata": {},
     "outputs": []
    },
    {
     "cell_type": "code",
     "collapsed": false,
     "input": [
      "#mean of the columns\n",
      "#mean of the rows"
     ],
     "language": "python",
     "metadata": {},
     "outputs": []
    },
    {
     "cell_type": "code",
     "collapsed": false,
     "input": [
      "#Select odd rows"
     ],
     "language": "python",
     "metadata": {},
     "outputs": []
    },
    {
     "cell_type": "code",
     "collapsed": false,
     "input": [],
     "language": "python",
     "metadata": {},
     "outputs": []
    }
   ],
   "metadata": {}
  }
 ]
}