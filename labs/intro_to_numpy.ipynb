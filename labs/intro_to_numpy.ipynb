{
 "metadata": {
  "name": "",
  "signature": "sha256:eec60e3995798a28d32d1b63eac34188389c08f772d1f1010a43630be3b6b12f"
 },
 "nbformat": 3,
 "nbformat_minor": 0,
 "worksheets": [
  {
   "cells": [
    {
     "cell_type": "heading",
     "level": 1,
     "metadata": {},
     "source": [
      "GA Lab 1: Pandas and Numpy"
     ]
    },
    {
     "cell_type": "code",
     "collapsed": false,
     "input": [
      "import numpy as np\n",
      "import pandas as pd\n",
      "import matplotlib.pyplot as plt\n",
      "\n",
      "# Limit rows displayed in notebook\n",
      "pd.set_option('display.max_rows', 10)\n",
      "pd.set_option('display.precision', 2)\n",
      "\n",
      "%matplotlib inline"
     ],
     "language": "python",
     "metadata": {},
     "outputs": [],
     "prompt_number": 3
    },
    {
     "cell_type": "markdown",
     "metadata": {},
     "source": [
      "http://www.numpy.org/"
     ]
    },
    {
     "cell_type": "heading",
     "level": 1,
     "metadata": {},
     "source": [
      "Numpy"
     ]
    },
    {
     "cell_type": "heading",
     "level": 2,
     "metadata": {},
     "source": [
      "Why numpy"
     ]
    },
    {
     "cell_type": "markdown",
     "metadata": {},
     "source": [
      "- very fast! \n",
      "- ndarray: immutable, one type, striding\n",
      "- widely used\n",
      "- input to many/most machine learning algorithms"
     ]
    },
    {
     "cell_type": "code",
     "collapsed": false,
     "input": [
      "%%timeit\n",
      "#Traditional Method\n",
      "X = range(10000000)\n",
      "Y = range(10000000)\n",
      "Z = []\n",
      "for i in range(len(X)):\n",
      "    Z.append(X[i] + Y[i])"
     ],
     "language": "python",
     "metadata": {},
     "outputs": [
      {
       "output_type": "stream",
       "stream": "stdout",
       "text": [
        "1 loops, best of 3: 2.1 s per loop\n"
       ]
      }
     ],
     "prompt_number": 7
    },
    {
     "cell_type": "code",
     "collapsed": false,
     "input": [
      "%%timeit\n",
      "#Numpy\n",
      "X = np.arange(10000000)\n",
      "Y = np.arange(10000000)\n",
      "Z = X + Y"
     ],
     "language": "python",
     "metadata": {},
     "outputs": [
      {
       "output_type": "stream",
       "stream": "stdout",
       "text": [
        "10 loops, best of 3: 63.4 ms per loop\n"
       ]
      }
     ],
     "prompt_number": 8
    },
    {
     "cell_type": "heading",
     "level": 2,
     "metadata": {},
     "source": [
      "ndarray"
     ]
    },
    {
     "cell_type": "code",
     "collapsed": false,
     "input": [
      "test_array = np.array(np.arange(12))\n",
      "print \"array: {}\".format(test_array)\n",
      "print \"Type: {}\".format(type(test_array))\n",
      "print \"Array size: {}\".format(test_array.shape)\n",
      "print \"Type of object: {}\".format(test_array.dtype)\n",
      "print 'Size (elements): ', test_array.size\n",
      "print 'ndim (number of dim): ', test_array.ndim"
     ],
     "language": "python",
     "metadata": {},
     "outputs": [
      {
       "output_type": "stream",
       "stream": "stdout",
       "text": [
        "array: [ 0  1  2  3  4  5  6  7  8  9 10 11]\n",
        "Type: <type 'numpy.ndarray'>\n",
        "Array size: (12,)\n",
        "Type of object: int64\n",
        "Size (elements):  12\n",
        "ndim (number of dim):  1\n"
       ]
      }
     ],
     "prompt_number": 39
    },
    {
     "cell_type": "heading",
     "level": 4,
     "metadata": {},
     "source": [
      "Basic operations"
     ]
    },
    {
     "cell_type": "code",
     "collapsed": false,
     "input": [
      "#Array slicing - same as python\n",
      "print \"First element: {}\".format(test_array[0])\n",
      "print \"Slicing array: {}\".format(test_array[1:4])"
     ],
     "language": "python",
     "metadata": {},
     "outputs": [
      {
       "output_type": "stream",
       "stream": "stdout",
       "text": [
        "First element: 0\n",
        "Slicing array: [1 2 3]\n"
       ]
      }
     ],
     "prompt_number": 40
    },
    {
     "cell_type": "heading",
     "level": 4,
     "metadata": {},
     "source": [
      "Reshaping"
     ]
    },
    {
     "cell_type": "code",
     "collapsed": false,
     "input": [
      "print test_array.reshape(3,4)\n",
      "print \n",
      "print test_array.reshape(4,3)"
     ],
     "language": "python",
     "metadata": {},
     "outputs": [
      {
       "output_type": "stream",
       "stream": "stdout",
       "text": [
        "[[ 0  1  2  3]\n",
        " [ 4  5  6  7]\n",
        " [ 8  9 10 11]]\n",
        "\n",
        "[[ 0  1  2]\n",
        " [ 3  4  5]\n",
        " [ 6  7  8]\n",
        " [ 9 10 11]]\n"
       ]
      }
     ],
     "prompt_number": 63
    },
    {
     "cell_type": "heading",
     "level": 4,
     "metadata": {},
     "source": [
      "Array operations"
     ]
    },
    {
     "cell_type": "code",
     "collapsed": false,
     "input": [
      "print \"Scalar Multiplication: {}\".format(test_array * 4)\n",
      "print\n",
      "print \"Sum: {}\".format(np.sum(test_array))\n",
      "print \"Array mean: {}\".format(np.mean(test_array))"
     ],
     "language": "python",
     "metadata": {},
     "outputs": [
      {
       "output_type": "stream",
       "stream": "stdout",
       "text": [
        "Scalar Multiplication: [[  0   4   8  12  16  20  24  28]\n",
        " [ 32  36  40  44  48  52  56  60]\n",
        " [ 64  68  72  76  80  84  88  92]\n",
        " [ 96 100 104 108 112 116 120 124]\n",
        " [128 132 136 140 144 148 152 156]\n",
        " [160 164 168 172 176 180 184 188]\n",
        " [192 196 200 204 208 212 216 220]\n",
        " [224 228 232 236 240 244 248 252]\n",
        " [256 260 264 268 272 276 280 284]\n",
        " [288 292 296 300 304 308 312 316]\n",
        " [320 324 328 332 336 340 344 348]\n",
        " [352 356 360 364 368 372 376 380]\n",
        " [384 388 392 396 400 404 408 412]\n",
        " [416 420 424 428 432 436 440 444]\n",
        " [448 452 456 460 464 468 472 476]]\n",
        "\n",
        "Array mean: 59.5\n",
        "Sum: 7140\n"
       ]
      }
     ],
     "prompt_number": 118
    },
    {
     "cell_type": "code",
     "collapsed": false,
     "input": [
      "arr1 = np.array([1, 2, 3])\n",
      "arr2 = np.array([4, 5, 6])\n",
      "\n",
      "#Addition\n",
      "print \"Addition: {}\".format(arr1 + arr2)\n",
      "#Multiplication\n",
      "print \"Multiplication: {}\".format(arr1 * arr2)"
     ],
     "language": "python",
     "metadata": {},
     "outputs": [
      {
       "output_type": "stream",
       "stream": "stdout",
       "text": [
        "Addition: [5 7 9]\n",
        "Multiplication: [ 4 10 18]\n"
       ]
      }
     ],
     "prompt_number": 48
    },
    {
     "cell_type": "heading",
     "level": 2,
     "metadata": {},
     "source": [
      "Exercise 1: Do the same thing in python"
     ]
    },
    {
     "cell_type": "code",
     "collapsed": false,
     "input": [
      "sequence_1 = [1, 2, 3, 4, 5, 6, 7, 8]\n",
      "sequence_2 = [2, 4, 6, 8, 10, 12, 14, 16]"
     ],
     "language": "python",
     "metadata": {},
     "outputs": [],
     "prompt_number": 58
    },
    {
     "cell_type": "code",
     "collapsed": false,
     "input": [
      "#Add two python lists"
     ],
     "language": "python",
     "metadata": {},
     "outputs": [],
     "prompt_number": 59
    },
    {
     "cell_type": "code",
     "collapsed": false,
     "input": [
      "#Multiply two python lists"
     ],
     "language": "python",
     "metadata": {},
     "outputs": [],
     "prompt_number": 60
    },
    {
     "cell_type": "code",
     "collapsed": false,
     "input": [
      "#Multiply a scalar by a python list"
     ],
     "language": "python",
     "metadata": {},
     "outputs": []
    },
    {
     "cell_type": "heading",
     "level": 4,
     "metadata": {},
     "source": [
      "Filtering / Masking"
     ]
    },
    {
     "cell_type": "code",
     "collapsed": false,
     "input": [
      "print test_array > 5\n",
      "#These filters can be assigned\n",
      "elements_gt_5 = test_array > 5\n",
      "print test_array[elements_gt_5]"
     ],
     "language": "python",
     "metadata": {},
     "outputs": [
      {
       "output_type": "stream",
       "stream": "stdout",
       "text": [
        "[False False False False False False  True  True  True  True  True  True]\n",
        "[ 6  7  8  9 10 11]\n"
       ]
      }
     ],
     "prompt_number": 55
    },
    {
     "cell_type": "heading",
     "level": 2,
     "metadata": {},
     "source": [
      "Other numpy functions"
     ]
    },
    {
     "cell_type": "code",
     "collapsed": false,
     "input": [
      "#Create an array from 1-300\n",
      "three_hundred = np.arange(1,301)\n",
      "print three_hundred"
     ],
     "language": "python",
     "metadata": {},
     "outputs": [
      {
       "output_type": "stream",
       "stream": "stdout",
       "text": [
        "[  1   3   5   7   9  11  13  15  17  19  21  23  25  27  29  31  33  35\n",
        "  37  39  41  43  45  47  49  51  53  55  57  59  61  63  65  67  69  71\n",
        "  73  75  77  79  81  83  85  87  89  91  93  95  97  99 101 103 105 107\n",
        " 109 111 113 115 117 119 121 123 125 127 129 131 133 135 137 139 141 143\n",
        " 145 147 149 151 153 155 157 159 161 163 165 167 169 171 173 175 177 179\n",
        " 181 183 185 187 189 191 193 195 197 199 201 203 205 207 209 211 213 215\n",
        " 217 219 221 223 225 227 229 231 233 235 237 239 241 243 245 247 249 251\n",
        " 253 255 257 259 261 263 265 267 269 271 273 275 277 279 281 283 285 287\n",
        " 289 291 293 295 297 299]\n"
       ]
      }
     ],
     "prompt_number": 72
    },
    {
     "cell_type": "heading",
     "level": 3,
     "metadata": {},
     "source": [
      "linspace"
     ]
    },
    {
     "cell_type": "code",
     "collapsed": false,
     "input": [
      "#Get 10 evenly spaced points between 1 and 1000 - inclusive\n",
      "np.linspace(1,1000,10)"
     ],
     "language": "python",
     "metadata": {},
     "outputs": [
      {
       "metadata": {},
       "output_type": "pyout",
       "prompt_number": 81,
       "text": [
        "array([    1.,   112.,   223.,   334.,   445.,   556.,   667.,   778.,\n",
        "         889.,  1000.])"
       ]
      }
     ],
     "prompt_number": 81
    },
    {
     "cell_type": "code",
     "collapsed": false,
     "input": [
      "# Normal Dist\n",
      "# Mean of 1, std of 0.1, 10 elements\n",
      "np.random.normal(1, 0.1, 25)"
     ],
     "language": "python",
     "metadata": {},
     "outputs": [
      {
       "metadata": {},
       "output_type": "pyout",
       "prompt_number": 82,
       "text": [
        "array([ 0.93448583,  1.11026277,  1.02052943,  0.96464989,  0.8089476 ,\n",
        "        0.86966366,  0.86772732,  1.06668796,  0.99225008,  0.96983342,\n",
        "        1.22980634,  1.20901357,  0.91911296,  1.10438696,  0.95769607,\n",
        "        1.04171929,  0.98689894,  0.93479408,  0.84920459,  1.07131843,\n",
        "        1.17973594,  1.02467362,  1.11390694,  1.01338873,  0.83097608])"
       ]
      }
     ],
     "prompt_number": 82
    },
    {
     "cell_type": "code",
     "collapsed": false,
     "input": [
      "# Standard Normal Dist\n",
      "np.random.randn(1, 25)"
     ],
     "language": "python",
     "metadata": {},
     "outputs": [
      {
       "metadata": {},
       "output_type": "pyout",
       "prompt_number": 83,
       "text": [
        "array([[ 1.800906  , -1.75234173, -0.00498332, -0.96140366,  0.50502918,\n",
        "        -1.05000737,  0.8988587 ,  0.77890095, -0.352883  , -1.77947774,\n",
        "         0.03743431, -2.14144345, -0.96846644, -0.50707375,  0.11087436,\n",
        "        -1.16299781,  1.24573158, -0.15598093,  1.83998237,  0.21916014,\n",
        "        -0.3751983 , -1.69457887, -0.47824252,  0.69173431,  1.38444557]])"
       ]
      }
     ],
     "prompt_number": 83
    },
    {
     "cell_type": "heading",
     "level": 3,
     "metadata": {},
     "source": [
      "Multiple array slicing"
     ]
    },
    {
     "cell_type": "code",
     "collapsed": false,
     "input": [
      "test_array = np.arange(0,120).reshape(15,8)\n",
      "print test_array"
     ],
     "language": "python",
     "metadata": {},
     "outputs": [
      {
       "output_type": "stream",
       "stream": "stdout",
       "text": [
        "[[  0   1   2   3   4   5   6   7]\n",
        " [  8   9  10  11  12  13  14  15]\n",
        " [ 16  17  18  19  20  21  22  23]\n",
        " [ 24  25  26  27  28  29  30  31]\n",
        " [ 32  33  34  35  36  37  38  39]\n",
        " [ 40  41  42  43  44  45  46  47]\n",
        " [ 48  49  50  51  52  53  54  55]\n",
        " [ 56  57  58  59  60  61  62  63]\n",
        " [ 64  65  66  67  68  69  70  71]\n",
        " [ 72  73  74  75  76  77  78  79]\n",
        " [ 80  81  82  83  84  85  86  87]\n",
        " [ 88  89  90  91  92  93  94  95]\n",
        " [ 96  97  98  99 100 101 102 103]\n",
        " [104 105 106 107 108 109 110 111]\n",
        " [112 113 114 115 116 117 118 119]]\n"
       ]
      }
     ],
     "prompt_number": 93
    },
    {
     "cell_type": "heading",
     "level": 4,
     "metadata": {},
     "source": [
      "select an individual element"
     ]
    },
    {
     "cell_type": "code",
     "collapsed": false,
     "input": [
      "test_array[1,1]"
     ],
     "language": "python",
     "metadata": {},
     "outputs": [
      {
       "metadata": {},
       "output_type": "pyout",
       "prompt_number": 98,
       "text": [
        "9"
       ]
      }
     ],
     "prompt_number": 98
    },
    {
     "cell_type": "heading",
     "level": 4,
     "metadata": {},
     "source": [
      "select a row"
     ]
    },
    {
     "cell_type": "code",
     "collapsed": false,
     "input": [
      "test_array[1]"
     ],
     "language": "python",
     "metadata": {},
     "outputs": [
      {
       "metadata": {},
       "output_type": "pyout",
       "prompt_number": 95,
       "text": [
        "array([ 8,  9, 10, 11, 12, 13, 14, 15])"
       ]
      }
     ],
     "prompt_number": 95
    },
    {
     "cell_type": "heading",
     "level": 4,
     "metadata": {},
     "source": [
      "select a column"
     ]
    },
    {
     "cell_type": "code",
     "collapsed": false,
     "input": [
      "test_array[:,3]"
     ],
     "language": "python",
     "metadata": {},
     "outputs": [
      {
       "metadata": {},
       "output_type": "pyout",
       "prompt_number": 97,
       "text": [
        "array([  3,  11,  19,  27,  35,  43,  51,  59,  67,  75,  83,  91,  99,\n",
        "       107, 115])"
       ]
      }
     ],
     "prompt_number": 97
    },
    {
     "cell_type": "heading",
     "level": 4,
     "metadata": {},
     "source": [
      "select a row and column subset"
     ]
    },
    {
     "cell_type": "code",
     "collapsed": false,
     "input": [
      "#Select the second, third and fourth column\n",
      "#then select the fourth, fifth and sixth column\n",
      "test_array[1:5,3:6]"
     ],
     "language": "python",
     "metadata": {},
     "outputs": [
      {
       "metadata": {},
       "output_type": "pyout",
       "prompt_number": 115,
       "text": [
        "array([[11, 12, 13],\n",
        "       [19, 20, 21],\n",
        "       [27, 28, 29],\n",
        "       [35, 36, 37]])"
       ]
      }
     ],
     "prompt_number": 115
    },
    {
     "cell_type": "heading",
     "level": 2,
     "metadata": {},
     "source": [
      "Exercise 2: Array practice"
     ]
    },
    {
     "cell_type": "markdown",
     "metadata": {},
     "source": [
      "- These are difficult"
     ]
    },
    {
     "cell_type": "code",
     "collapsed": false,
     "input": [
      "#Create an array with dimensions 10 x 15"
     ],
     "language": "python",
     "metadata": {},
     "outputs": []
    },
    {
     "cell_type": "code",
     "collapsed": false,
     "input": [
      "#What is the sum of the second row?\n",
      "#Sum of the even rows"
     ],
     "language": "python",
     "metadata": {},
     "outputs": [],
     "prompt_number": 119
    },
    {
     "cell_type": "code",
     "collapsed": false,
     "input": [
      "#mean of the columns\n",
      "#mean of the rows"
     ],
     "language": "python",
     "metadata": {},
     "outputs": [],
     "prompt_number": 120
    },
    {
     "cell_type": "code",
     "collapsed": false,
     "input": [
      "#Select odd rows"
     ],
     "language": "python",
     "metadata": {},
     "outputs": [],
     "prompt_number": 115
    }
   ],
   "metadata": {}
  }
 ]
}