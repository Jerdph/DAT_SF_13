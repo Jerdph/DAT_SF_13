{
 "metadata": {
  "name": ""
 },
 "nbformat": 3,
 "nbformat_minor": 0,
 "worksheets": [
  {
   "cells": [
    {
     "cell_type": "markdown",
     "metadata": {},
     "source": [
      "# DAT_SF_13: NLP Lab / TF-IDF Exercise\n",
      "## Main Exercise\n",
      "\n",
      "with thanks to Rebecca Weiss\n",
      "\n",
      "Now it's time for us to try applying what we've learned.  Try building a TF-IDF weighted document term matrix from the list of Amazon `review_text` strings using the `TfidfVectorizer`."
     ]
    },
    {
     "cell_type": "code",
     "collapsed": false,
     "input": [
      "import csv\n",
      "\n",
      "with open('amazon/sociology_2010.csv', 'rb') as csvfile:\n",
      "    amazon_reader = csv.DictReader(csvfile, delimiter=',')\n",
      "    amazon_reviews = [row['review_text'] for row in amazon_reader]\n",
      "\n",
      "    #your code here!"
     ],
     "language": "python",
     "metadata": {},
     "outputs": []
    },
    {
     "cell_type": "markdown",
     "metadata": {},
     "source": [
      "## Bonus Exercise\n",
      "Now, let's try that again, but also:\n",
      "\n",
      "* stripping unicode accents\n",
      "* removing english stopwords\n",
      "* using single token ngrams"
     ]
    },
    {
     "cell_type": "code",
     "collapsed": false,
     "input": [
      "#your code here!"
     ],
     "language": "python",
     "metadata": {},
     "outputs": []
    }
   ],
   "metadata": {}
  }
 ]
}